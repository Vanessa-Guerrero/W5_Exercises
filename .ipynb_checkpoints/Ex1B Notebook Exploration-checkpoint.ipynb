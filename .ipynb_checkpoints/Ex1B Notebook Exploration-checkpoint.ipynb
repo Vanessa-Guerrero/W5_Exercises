{
 "cells": [
  {
   "cell_type": "code",
   "execution_count": 8,
   "id": "0db0bebd-72dc-49c3-8df6-556b57e668a6",
   "metadata": {
    "scrolled": true
   },
   "outputs": [
    {
     "name": "stdout",
     "output_type": "stream",
     "text": [
      "hello world\n"
     ]
    }
   ],
   "source": [
    "print('hello world')"
   ]
  },
  {
   "cell_type": "code",
   "execution_count": 9,
   "id": "6bc11a6b-4dd0-4ae9-bf3d-40fc3e378672",
   "metadata": {},
   "outputs": [],
   "source": [
    "customer_id = '1' #string\n",
    "customer_name = ' Mary Jane Doe' #string\n",
    "gender = 'female' #string\n",
    "dob = '1/1/1990' #string\n",
    "drivers_lic_num = 'G123456' #string\n",
    "auto_policy_num = 'ABC123' #string\n",
    "\n",
    "my_name = 'Vanessa Guerrero'\n",
    "city_state = 'Queens, NY'"
   ]
  },
  {
   "cell_type": "code",
   "execution_count": 10,
   "id": "1bf6328b-f999-4b6d-8307-29d8e7f741a5",
   "metadata": {},
   "outputs": [
    {
     "name": "stdout",
     "output_type": "stream",
     "text": [
      "Queens, NY\n"
     ]
    }
   ],
   "source": [
    "print (city_state)"
   ]
  },
  {
   "cell_type": "code",
   "execution_count": null,
   "id": "537b8581-cb4b-44a3-85fb-102cf4b206d2",
   "metadata": {},
   "outputs": [],
   "source": []
  }
 ],
 "metadata": {
  "kernelspec": {
   "display_name": "Python 3 (ipykernel)",
   "language": "python",
   "name": "python3"
  },
  "language_info": {
   "codemirror_mode": {
    "name": "ipython",
    "version": 3
   },
   "file_extension": ".py",
   "mimetype": "text/x-python",
   "name": "python",
   "nbconvert_exporter": "python",
   "pygments_lexer": "ipython3",
   "version": "3.12.6"
  }
 },
 "nbformat": 4,
 "nbformat_minor": 5
}
